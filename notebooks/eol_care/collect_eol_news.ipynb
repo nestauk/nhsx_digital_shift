{
 "cells": [
  {
   "cell_type": "code",
   "execution_count": 4,
   "metadata": {},
   "outputs": [],
   "source": [
    "%load_ext autoreload"
   ]
  },
  {
   "cell_type": "code",
   "execution_count": 57,
   "metadata": {},
   "outputs": [],
   "source": [
    "%autoreload 2\n",
    "from utils.news_api import download_articles\n",
    "from utils.keyword_filter import expand_terms, filter_articles, datapath, save_excel\n",
    "import json\n",
    "\n",
    "# An OR of all of these terms is used for the API query\n",
    "core_care_terms = [[['assisted living']],\n",
    "                   [['care', 'nursing', 'retirement'], ['home']]]\n",
    "core_care_terms = expand_terms(core_care_terms)\n",
    "\n",
    "# TODO: expand this to include a longer list\n",
    "national_terms = [['nhs', 'national health service',\n",
    "                   'uk', 'united kingdom', 'britain']]\n",
    "\n",
    "\n",
    "care_query = ' OR '.join(f'(\"{term}\")' for term in core_care_terms)\n",
    "national_query = ' OR '.join(f'(\"{term}\")' for term in national_terms[0])\n",
    "query = f'({care_query}) AND ({national_query})'\n",
    "\n",
    "\n",
    "initial_kwargs = dict(page_size=100,\n",
    "                      language='en',\n",
    "                      q=query,\n",
    "                      sort_by='publishedAt', verbose=True)\n",
    "\n",
    "# Collect and save from June 2019 til present\n",
    "label = 'eol_test'\n",
    "articles = download_articles(label, start='14 July, 2020',\n",
    "                              **initial_kwargs)"
   ]
  },
  {
   "cell_type": "code",
   "execution_count": 54,
   "metadata": {},
   "outputs": [
    {
     "data": {
      "text/plain": [
       "'((\"assisted living\") OR (\"care home\") OR (\"care homes\") OR (\"nursing home\") OR (\"nursing homes\") OR (\"retirement home\") OR (\"retirement homes\")) AND ((\"nhs\") OR (\"national health service\") OR (\"uk\") OR (\"united kingdom\") OR (\"britain\"))'"
      ]
     },
     "execution_count": 54,
     "metadata": {},
     "output_type": "execute_result"
    }
   ],
   "source": [
    "query"
   ]
  },
  {
   "cell_type": "code",
   "execution_count": 55,
   "metadata": {},
   "outputs": [],
   "source": [
    "# Format: Pairs of lists of form (A=[a0,..,an], B=[b0,...,bn])\n",
    "# Firstly, B is expanded to include plural forms\n",
    "# Then, all combinations of A and B are generated\n",
    "# e.g. ['video'], ['chat', 'call'] --> ['video chat', 'video chats',\n",
    "#                                       'video call', 'video calls']\n",
    "# If B is missing then it is ignored\n",
    "# e.g. ['triage online'] --> 'triage online'\n",
    "#\n",
    "# These terms are then searched for AFTER the API query for filtering articles\n",
    "\n",
    "seed_terms = [[['hospital', 'end of life', 'palliative', 'dying', 'supported death', 'nurse', 'nurses']],\n",
    "              [['community'], ['service']],\n",
    "              [['end of life', 'palliative'], ['care']],\n",
    "              [['care', 'health'], ['worker']]]\n",
    "\n",
    "ranked_articles = filter_articles(articles, core_care_terms, seed_terms,\n",
    "                                  min_core_df=4, min_seed_df=2) # Less tight requirements\n",
    "filename = datapath('processed', f'filtered_{label}.json')\n",
    "with open(filename, 'w') as f:\n",
    "    f.write(json.dumps(ranked_articles))\n",
    "\n",
    "save_excel(ranked_articles, articles, 'ranked_eol_test')"
   ]
  },
  {
   "cell_type": "code",
   "execution_count": 58,
   "metadata": {},
   "outputs": [],
   "source": [
    "dummy_rank = {i: 1 for i in range(len(articles))}\n",
    "save_excel(dummy_rank, articles, 'unranked_eol_test')"
   ]
  },
  {
   "cell_type": "code",
   "execution_count": null,
   "metadata": {},
   "outputs": [],
   "source": []
  }
 ],
 "metadata": {
  "kernelspec": {
   "display_name": "Python 3",
   "language": "python",
   "name": "python3"
  },
  "language_info": {
   "codemirror_mode": {
    "name": "ipython",
    "version": 3
   },
   "file_extension": ".py",
   "mimetype": "text/x-python",
   "name": "python",
   "nbconvert_exporter": "python",
   "pygments_lexer": "ipython3",
   "version": "3.7.7"
  }
 },
 "nbformat": 4,
 "nbformat_minor": 4
}
